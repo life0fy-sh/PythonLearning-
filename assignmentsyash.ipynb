{
 "cells": [
  {
   "cell_type": "code",
   "execution_count": null,
   "id": "65b27967-849c-4ec8-94a7-204f938ada69",
   "metadata": {},
   "outputs": [],
   "source": [
    "#Create a Python program that prompts the user to enter a temperature in Celsius, stores it in a variable, and then converts it to Fahrenheit \n",
    "#using the formula (Celsius * 9/5) + 32.\n",
    "#Display the result"
   ]
  },
  {
   "cell_type": "code",
   "execution_count": 2,
   "id": "b78ceb36-ccbf-438e-b7c4-cedb7e523b9d",
   "metadata": {},
   "outputs": [
    {
     "name": "stdin",
     "output_type": "stream",
     "text": [
      "enter the temperature in celsius :  50\n"
     ]
    },
    {
     "name": "stdout",
     "output_type": "stream",
     "text": [
      "the tmeperature in farenheit is : 122.0\n"
     ]
    }
   ],
   "source": [
    "Temp = int(input(\"enter the temperature in celsius : \"))\n",
    "TempF = (Temp * 9/5) + 32\n",
    "print(\"the tmeperature in farenheit is :\",TempF)\n",
    "          "
   ]
  },
  {
   "cell_type": "code",
   "execution_count": null,
   "id": "9717d5a8-1bd5-4561-9bb4-3564752095e3",
   "metadata": {},
   "outputs": [],
   "source": [
    "#Write a Python script that declares two string variables and concatenates them together. \n",
    "#Prompt the user to enter their first name and last name separately, then concatenate them and print out the full name"
   ]
  },
  {
   "cell_type": "code",
   "execution_count": 4,
   "id": "6fa5bf0c-c604-4031-bd2a-e91a4311a7b9",
   "metadata": {},
   "outputs": [
    {
     "name": "stdin",
     "output_type": "stream",
     "text": [
      "Enter your first name :  yash\n",
      "Enter your last name :  salvi\n"
     ]
    },
    {
     "name": "stdout",
     "output_type": "stream",
     "text": [
      "Full name :  yash  salvi\n"
     ]
    }
   ],
   "source": [
    "firstname = str(input(\"Enter your first name : \"))\n",
    "lastname = str(input(\"Enter your last name : \"))\n",
    "print (\"Full name : \",firstname,\"\",lastname)"
   ]
  },
  {
   "cell_type": "code",
   "execution_count": null,
   "id": "5543df80-53fa-4a50-bca1-b2df7e6c191c",
   "metadata": {},
   "outputs": [],
   "source": [
    "#Prompt the user to enter their weight in kilograms and height in meters. \n",
    "#Calculate BMI using the formula BMI = weight / (height * height). Print out the BMI."
   ]
  },
  {
   "cell_type": "code",
   "execution_count": 5,
   "id": "66669312-2734-4e69-ae49-60feafab807e",
   "metadata": {},
   "outputs": [
    {
     "name": "stdin",
     "output_type": "stream",
     "text": [
      "Enter your weight in kilograms  70.00\n",
      "Enter your height in meters 1.65\n"
     ]
    },
    {
     "name": "stdout",
     "output_type": "stream",
     "text": [
      "your BMI is :  25.71166207529844\n"
     ]
    }
   ],
   "source": [
    "weight = float(input(\"Enter your weight in kilograms \"))\n",
    "height = float(input(\"Enter your height in meters\"))\n",
    "BMI = weight / (height * height)\n",
    "print(\"your BMI is : \",BMI)\n"
   ]
  },
  {
   "cell_type": "code",
   "execution_count": null,
   "id": "175b06a4-c930-486c-94e6-eec4f533704d",
   "metadata": {},
   "outputs": [],
   "source": [
    " # Prompt the user to enter the base and height of the triangle. Use the formula Area = (base * height) / 2 and display the result."
   ]
  },
  {
   "cell_type": "code",
   "execution_count": 6,
   "id": "a05c2ac2-5da7-416d-aa5f-f29abe8dcef1",
   "metadata": {},
   "outputs": [
    {
     "name": "stdin",
     "output_type": "stream",
     "text": [
      "Enter the base of triangle :  8\n",
      "Enter the height of the triangle  15\n"
     ]
    },
    {
     "name": "stdout",
     "output_type": "stream",
     "text": [
      "The area of Triangle is : 60.0\n"
     ]
    }
   ],
   "source": [
    "base = int(input(\"Enter the base of triangle : \"))\n",
    "height = int(input(\"Enter the height of the triangle \"))\n",
    "AREA = (base*height)/2 \n",
    "print(\"The area of Triangle is :\",AREA)"
   ]
  },
  {
   "cell_type": "code",
   "execution_count": null,
   "id": "27269a7b-5597-4722-a14d-f4e8673ec479",
   "metadata": {},
   "outputs": [],
   "source": [
    "#Create a Python script that prompts the user to enter their birth year and stores it in a variable. \n",
    "#Calculate the user's age based on the current year and print out the result."
   ]
  },
  {
   "cell_type": "code",
   "execution_count": 7,
   "id": "38b7c4b0-9ad6-4d4c-93db-22b8a08afe13",
   "metadata": {},
   "outputs": [
    {
     "name": "stdin",
     "output_type": "stream",
     "text": [
      "enter your birthyear :  1985\n",
      "enter the current year :  2025\n"
     ]
    },
    {
     "name": "stdout",
     "output_type": "stream",
     "text": [
      "Your AGE is :  40\n"
     ]
    }
   ],
   "source": [
    "birthyear = int(input(\"enter your birthyear : \"))\n",
    "currentyear = int(input(\"enter the current year : \"))\n",
    "AGE = currentyear - birthyear \n",
    "print(\"Your AGE is : \", AGE )"
   ]
  },
  {
   "cell_type": "code",
   "execution_count": 40,
   "id": "e6fb7c2e-ad47-4639-b578-3b2972b99c80",
   "metadata": {},
   "outputs": [
    {
     "name": "stdout",
     "output_type": "stream",
     "text": [
      "the sum is :  55\n"
     ]
    }
   ],
   "source": [
    "# for loops assignment 9 \n",
    "# Calculate the Sum of Natural Numbers\n",
    "sum = 0\n",
    "for i in range(1,11):\n",
    "    sum=sum  + i\n",
    "    \n",
    "print (\"the sum is : \", sum)"
   ]
  },
  {
   "cell_type": "code",
   "execution_count": 52,
   "id": "a163e17e-984c-48d2-ae20-f8e8b5292743",
   "metadata": {},
   "outputs": [
    {
     "name": "stdin",
     "output_type": "stream",
     "text": [
      "enter number for table  2\n"
     ]
    },
    {
     "name": "stdout",
     "output_type": "stream",
     "text": [
      "2 * 1 = 2\n",
      "2 * 2 = 4\n",
      "2 * 3 = 6\n",
      "2 * 4 = 8\n",
      "2 * 5 = 10\n",
      "2 * 6 = 12\n",
      "2 * 7 = 14\n",
      "2 * 8 = 16\n",
      "2 * 9 = 18\n",
      "2 * 10 = 20\n"
     ]
    }
   ],
   "source": [
    "num = int(input(\"enter number for table \"))\n",
    "for i in range(1,11):\n",
    "    print(num,'*',i,\"=\",num*i)"
   ]
  },
  {
   "cell_type": "code",
   "execution_count": 63,
   "id": "b9698a6c-cf6c-4a5c-a93d-bac6b044330d",
   "metadata": {},
   "outputs": [
    {
     "name": "stdin",
     "output_type": "stream",
     "text": [
      "enter word  yash\n"
     ]
    },
    {
     "name": "stdout",
     "output_type": "stream",
     "text": [
      "4\n"
     ]
    }
   ],
   "source": [
    "word = (input(\"enter word \"))\n",
    "print(len(word))\n",
    "\n"
   ]
  },
  {
   "cell_type": "code",
   "execution_count": 2,
   "id": "3cae3de2-9497-4545-8bb1-00358efba273",
   "metadata": {},
   "outputs": [
    {
     "name": "stdin",
     "output_type": "stream",
     "text": [
      "Enter a number :  45646\n"
     ]
    },
    {
     "name": "stdout",
     "output_type": "stream",
     "text": [
      "Total digits :  5\n"
     ]
    }
   ],
   "source": [
    "# Write a Program to Count Number of Digits in an Integer\n",
    "number = str(input(\"Enter a number : \"))\n",
    "count = len(number)\n",
    "print(\"Total digits : \",count )"
   ]
  },
  {
   "cell_type": "code",
   "execution_count": 54,
   "id": "28582747-7c7a-464a-88ff-ee900f049d2b",
   "metadata": {},
   "outputs": [
    {
     "name": "stdin",
     "output_type": "stream",
     "text": [
      "Enter a number  80990\n"
     ]
    },
    {
     "name": "stdout",
     "output_type": "stream",
     "text": [
      "the reverse number is :  9908\n"
     ]
    }
   ],
   "source": [
    "#Write a Program to Reverse a Number\n",
    "number = int(input(\"Enter a number \"))\n",
    "rev = 0 \n",
    "while number > 0:\n",
    "    digit = number % 10\n",
    "    rev = rev * 10 + digit\n",
    "    number //= 10\n",
    "print(\"the reverse number is : \",rev)   "
   ]
  },
  {
   "cell_type": "code",
   "execution_count": 14,
   "id": "dc5fc87f-0e49-40ba-a3de-3e8804cbc7c8",
   "metadata": {},
   "outputs": [
    {
     "name": "stdout",
     "output_type": "stream",
     "text": [
      "6\n"
     ]
    }
   ],
   "source": [
    "X = 76%10\n",
    "print (X)"
   ]
  },
  {
   "cell_type": "code",
   "execution_count": 28,
   "id": "068c0407-1bfc-4810-bbf8-88328a4b6708",
   "metadata": {},
   "outputs": [
    {
     "name": "stdout",
     "output_type": "stream",
     "text": [
      "apple\n",
      "banana\n",
      "orange\n",
      "mango\n",
      "pineapple\n",
      "chikoo\n",
      "grapes\n",
      "total fruits : 7\n"
     ]
    }
   ],
   "source": [
    "#List Iteration\n",
    "fruits = [ \"apple\",\"banana\",\"orange\",\"mango\",\"pineapple\",\"chikoo\",\"grapes\" ]\n",
    "count=0\n",
    "for i in fruits:\n",
    "    print (i)\n",
    "    count=count+1\n",
    "print(\"total fruits :\",count)  "
   ]
  },
  {
   "cell_type": "code",
   "execution_count": 46,
   "id": "b415f601-cc82-4d05-b331-7748f8ad47dc",
   "metadata": {},
   "outputs": [
    {
     "name": "stdin",
     "output_type": "stream",
     "text": [
      "Enter a word  triantiwontigongolope\n"
     ]
    },
    {
     "name": "stdout",
     "output_type": "stream",
     "text": [
      "t\n",
      "r\n",
      "i\n",
      "a\n",
      "n\n",
      "t\n",
      "i\n",
      "w\n",
      "o\n",
      "n\n",
      "t\n",
      "i\n",
      "g\n",
      "o\n",
      "n\n",
      "g\n",
      "o\n",
      "l\n",
      "o\n",
      "p\n",
      "e\n",
      "total letters :  21\n"
     ]
    }
   ],
   "source": [
    "# count and print total characters in the inp\n",
    "word = str(input('Enter a word '))\n",
    "count=0\n",
    "for i in word :\n",
    "    print (i)\n",
    "    count=count+1\n",
    "\n",
    "print(\"total letters : \",count)"
   ]
  },
  {
   "cell_type": "code",
   "execution_count": 50,
   "id": "8f401543-d24e-4960-960b-17ee018237a7",
   "metadata": {},
   "outputs": [
    {
     "name": "stdin",
     "output_type": "stream",
     "text": [
      "enter seconds to countdown  7\n"
     ]
    },
    {
     "name": "stdout",
     "output_type": "stream",
     "text": [
      "7\n",
      "6\n",
      "5\n",
      "4\n",
      "3\n",
      "2\n",
      "1\n",
      "0\n"
     ]
    }
   ],
   "source": [
    "limit = int(input(\"enter seconds to countdown \"))\n",
    "sec= limit \n",
    "print(limit)\n",
    "while limit>0:\n",
    "    limit = limit - 1\n",
    "    print(limit)"
   ]
  },
  {
   "cell_type": "code",
   "execution_count": 4,
   "id": "596f715f-d6a6-4705-ba15-6dc6be883bc2",
   "metadata": {},
   "outputs": [
    {
     "name": "stdin",
     "output_type": "stream",
     "text": [
      "GUESS THE PASSWORD yash\n"
     ]
    },
    {
     "name": "stdout",
     "output_type": "stream",
     "text": [
      "its a movie name \n"
     ]
    },
    {
     "name": "stdin",
     "output_type": "stream",
     "text": [
      "try again , tries left : 2 aysh\n"
     ]
    },
    {
     "name": "stdout",
     "output_type": "stream",
     "text": [
      "when can i see you , without spaces \n"
     ]
    },
    {
     "name": "stdin",
     "output_type": "stream",
     "text": [
      "try again,tries left : 1 yash\n"
     ]
    },
    {
     "name": "stdout",
     "output_type": "stream",
     "text": [
      "better luck next time , it was nice playing with you \n"
     ]
    }
   ],
   "source": [
    "#password guessing game \n",
    "password = \"Y@sh1437\"\n",
    "GUESS=str(input(\"GUESS THE PASSWORD\"))\n",
    "for i in password  :\n",
    "    if GUESS!=password:\n",
    "        print(\"y@sh\")\n",
    "        guess2= str(input(\"try again , tries left : 2\"))\n",
    "    elif  GUESS==password:\n",
    "        print(\"yess you got it ,lets start with MCQ exam\")\n",
    "        break\n",
    "    else :\n",
    "        break\n",
    "    if guess2==password:\n",
    "        print(\"yes , you got it correct , lets start with MCQ exam \") \n",
    "        break\n",
    "    elif guess2!=password:\n",
    "        print (\"Y@sh1437\")\n",
    "        guess3=str(input(\"try again,tries left : 1\"))\n",
    "    else : \n",
    "        break\n",
    "    if guess3==password:\n",
    "        print (\"YESS , you got in , lets start with MCQ exam  \")\n",
    "        break\n",
    "    elif guess3!=password:\n",
    "        print(\"better luck next time , it was nice playing with you \")\n",
    "        break\n",
    "    else : \n",
    "        break\n",
    "\n"
   ]
  },
  {
   "cell_type": "code",
   "execution_count": 3,
   "id": "357be3c3-59f7-4c16-8b1d-c59bb863d665",
   "metadata": {},
   "outputs": [
    {
     "name": "stdin",
     "output_type": "stream",
     "text": [
      "Enter the product list size  5\n",
      "Enter the product  samosa\n",
      "Enter the product  kachori\n",
      "Enter the product  jkhdaskj\n",
      "Enter the product  hjsdgakj\n",
      "Enter the product  gasdj\n",
      "Enter the price :  10\n",
      "Enter the price :  15\n",
      "Enter the price :  20\n",
      "Enter the price :  30\n",
      "Enter the price :  40\n"
     ]
    },
    {
     "name": "stdout",
     "output_type": "stream",
     "text": [
      "samosa = 10\n",
      "kachori = 15\n",
      "jkhdaskj = 20\n",
      "hjsdgakj = 30\n",
      "gasdj = 40\n"
     ]
    },
    {
     "name": "stdin",
     "output_type": "stream",
     "text": [
      "Do You Want To Add GST  Y\n"
     ]
    },
    {
     "name": "stdout",
     "output_type": "stream",
     "text": [
      "0 . samosa = 10 /-\n",
      "1 . kachori = 15 /-\n",
      "2 . jkhdaskj = 20 /-\n",
      "3 . hjsdgakj = 30 /-\n",
      "4 . gasdj = 40 /-\n",
      "Total =  115\n",
      "GST = 18 %\n",
      "FINAL TOTAL : 135.7\n"
     ]
    }
   ],
   "source": [
    "# input section \n",
    "listsize = int(input(\"Enter the product list size \"))\n",
    "products = []\n",
    "price = []\n",
    "for i in range(listsize):\n",
    "    f = input(\"Enter the product \")\n",
    "    products.append(f) \n",
    "    \n",
    "for j in range(listsize) :\n",
    "    p = int(input(\"Enter the price : \"))\n",
    "    price.append(p)\n",
    "\n",
    "for i in range(listsize):\n",
    "    print(products[i],'=',price[i])\n",
    "\n",
    "GST = input('Do You Want To Add GST ')\n",
    "if GST =='Y':\n",
    "    for i in range(listsize):\n",
    "        print(i,'.',products[i],'=',price[i],'/-')\n",
    "    total = sum(price)\n",
    "    print('Total = ',total)\n",
    "    print('GST =',18,'%')\n",
    "    final=(total + (total/100)*18)\n",
    "    print(\"FINAL TOTAL :\",final)\n",
    "elif GST=='N':\n",
    "    for i in range(listsize):\n",
    "        print(i,'.',products[i],'=',price[i],'/-')\n",
    "    total = sum(price)\n",
    "    print('Total = ',total)\n",
    "    print(\"FINAL TOTAL \",total)\n",
    "else:\n",
    "    print(\"Type Y or N \")\n",
    "    \n",
    " \n",
    "    \n"
   ]
  },
  {
   "cell_type": "code",
   "execution_count": 2,
   "id": "b7e84415-dd77-430f-8b7f-69acb871def6",
   "metadata": {},
   "outputs": [
    {
     "name": "stdin",
     "output_type": "stream",
     "text": [
      "GUESS THE PASSWORD Y@sh1437\n"
     ]
    },
    {
     "name": "stdout",
     "output_type": "stream",
     "text": [
      "yess you got it ,lets start with MCQ exam\n",
      "1. Who invented Java Programming?\n",
      "         1.) Guido van Rossum\n",
      "         2.) James Gosling\n",
      "         3.) Dennis Ritchie\n",
      "         4.) Bjarne Stroustrup\n"
     ]
    },
    {
     "name": "stdin",
     "output_type": "stream",
     "text": [
      "Enter your Answer number 1,2,3 or 4 :  1\n"
     ]
    },
    {
     "name": "stdout",
     "output_type": "stream",
     "text": [
      "OOPS LOOKS LIKE YOUR ANSWER IS WRONG , ATTEMPT THIS TEST AGAIN  \n"
     ]
    }
   ],
   "source": [
    "#### Question - check password and begin mcq exam !!!\n",
    "\n",
    "password = \"Y@sh1437\"\n",
    "GUESS=str(input(\"GUESS THE PASSWORD\"))\n",
    "\n",
    "def MCQ():\n",
    "    print(\"\"\"1. Who invented Java Programming?\n",
    "         1.) Guido van Rossum\n",
    "         2.) James Gosling\n",
    "         3.) Dennis Ritchie\n",
    "         4.) Bjarne Stroustrup\"\"\",\n",
    "         )\n",
    "    choice = int(input(\"Enter your Answer number 1,2,3 or 4 : \"))\n",
    "    if choice!=2 :\n",
    "        print(\"OOPS LOOKS LIKE YOUR ANSWER IS WRONG , ATTEMPT THIS TEST AGAIN  \")\n",
    "        \n",
    "    elif choice == 2 :\n",
    "        print(\"CORRECT ,, NEXT QUESTION : \")\n",
    "        print(\"\"\"2. Who invented C++ Programming?\n",
    "         1.) Guido van Rossum\n",
    "         2.) James Gosling\n",
    "         3.) Dennis Ritchie\n",
    "         4.) Bjarne Stroustrup\"\"\")\n",
    "        choice2 = int(input(\"Enter your Answer number 1,2,3 or 4 : \"))\n",
    "        if choice2 != 4 :\n",
    "            print(\"OOPS LOOKS LIKE YOUR ANSWER IS WRONG , ATTEMPT THIS TEST AGAIN  \")\n",
    "            \n",
    "        elif choice2 == 4 : \n",
    "            print(\"CORRECT ,, NEXT QUESTION :\")\n",
    "            print(\"\"\" 3. Who Invented The First Ever Computer ?\n",
    "         1.) Guido van Rossum\n",
    "         2.) James Gosling\n",
    "         3.) Charles Babbage \n",
    "         4.) Bjarne Stroustrup\n",
    "            \"\"\")\n",
    "            choice3 = int(input(\"Enter your Answer number 1,2,3 or 4 : \"))\n",
    "            if choice3!= 3 : \n",
    "                print(\"OOPS LOOKS LIKE YOUR ANSWER IS WRONG , ATTEMPT THIS TEST AGAIN  \")\n",
    "                \n",
    "            elif choice3 == 3 :\n",
    "                print(\"YAYYY !!!!! YOU GOT ALL THREE QUESTIONS RIGHT <<< 7 CROREEEEEEEE \") \n",
    "            else :\n",
    "                print(\"better luck next time \")\n",
    "\n",
    "        \n",
    "for i in password  :\n",
    "    if GUESS!=password:\n",
    "        print(\"y@sh\")\n",
    "        guess2= str(input(\"try again , tries left : 2\"))\n",
    "    elif  GUESS==password:\n",
    "        print(\"yess you got it ,lets start with MCQ exam\")\n",
    "        MCQ()\n",
    "        break\n",
    "    else :\n",
    "        break\n",
    "    if guess2==password:\n",
    "        print(\"yes , you got it correct , lets start with MCQ exam \")\n",
    "        MCQ()\n",
    "        break\n",
    "    elif guess2!=password:\n",
    "        print (\"Y@sh1437\")\n",
    "        guess3=str(input(\"try again,tries left : 1\"))\n",
    "    else : \n",
    "        break\n",
    "    if guess3==password:\n",
    "        print (\"YESS , you got in , lets start with MCQ exam  \")\n",
    "        MCQ() \n",
    "        break\n",
    "        \n",
    "    elif guess3!=password:\n",
    "        print(\"better luck next time , it was nice playing with you \")\n",
    "        break\n",
    "    else : \n",
    "        break"
   ]
  },
  {
   "cell_type": "code",
   "execution_count": null,
   "id": "59173919-d854-46d2-a294-10603d8528d8",
   "metadata": {},
   "outputs": [],
   "source": []
  }
 ],
 "metadata": {
  "kernelspec": {
   "display_name": "Python 3 (ipykernel)",
   "language": "python",
   "name": "python3"
  },
  "language_info": {
   "codemirror_mode": {
    "name": "ipython",
    "version": 3
   },
   "file_extension": ".py",
   "mimetype": "text/x-python",
   "name": "python",
   "nbconvert_exporter": "python",
   "pygments_lexer": "ipython3",
   "version": "3.12.7"
  }
 },
 "nbformat": 4,
 "nbformat_minor": 5
}
