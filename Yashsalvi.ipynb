{
 "cells": [
  {
   "cell_type": "code",
   "execution_count": 1,
   "id": "7c899f0d-5171-4531-9bf7-cfbfb55e06b4",
   "metadata": {},
   "outputs": [
    {
     "name": "stdout",
     "output_type": "stream",
     "text": [
      "hello ji \n"
     ]
    }
   ],
   "source": [
    "print(\"hello ji \")"
   ]
  },
  {
   "cell_type": "code",
   "execution_count": 6,
   "id": "24281d69-fcdb-4661-8452-8c91131ab830",
   "metadata": {},
   "outputs": [
    {
     "name": "stdout",
     "output_type": "stream",
     "text": [
      "My name is : yash\n",
      "Age 18\n",
      "number: 8149806242\n"
     ]
    }
   ],
   "source": [
    "name = \"yash\"\n",
    "age = 18 \n",
    "number = 8149806242 \n",
    "print (\"My name is :\",name)\n",
    "print (\"Age\",age)\n",
    "print(\"number:\",number)"
   ]
  },
  {
   "cell_type": "raw",
   "id": "e67a8923-e186-4da7-ac1c-543ebf56c196",
   "metadata": {},
   "source": [
    "data = 10\n",
    "print (type(data))\n",
    "data = 10.00\n",
    "print(type(data))\n",
    "data = (10,11,12,13)\n",
    "print(type(data))\n",
    "data = {10,11,12,13}\n",
    "print(type(data))\n",
    "\n",
    "data = \"hello ji \"\n",
    "print(type(data))\n",
    "data = 'hello ji'\n",
    "print(type(data))"
   ]
  },
  {
   "cell_type": "code",
   "execution_count": 1,
   "id": "b1e2c05c-3c1c-4b65-83f0-5d7030bbfeee",
   "metadata": {},
   "outputs": [
    {
     "name": "stdout",
     "output_type": "stream",
     "text": [
      "<class 'list'>\n"
     ]
    }
   ],
   "source": [
    "\n"
   ]
  },
  {
   "cell_type": "code",
   "execution_count": 13,
   "id": "64f71ce5-b0cf-4b35-bf2a-7d5d229ae543",
   "metadata": {},
   "outputs": [
    {
     "name": "stdout",
     "output_type": "stream",
     "text": [
      "sum = 200\n"
     ]
    }
   ],
   "source": [
    "a= 100\n",
    "b=100\n",
    "sum= a+b\n",
    "print(\"sum =\",sum ) "
   ]
  },
  {
   "cell_type": "code",
   "execution_count": 20,
   "id": "52653ada-3aff-4be8-8e3a-b352ef616962",
   "metadata": {},
   "outputs": [
    {
     "name": "stdin",
     "output_type": "stream",
     "text": [
      "enter your name : yash \n",
      "enter your age : 18\n",
      "enter height :  5,5\n"
     ]
    },
    {
     "name": "stdout",
     "output_type": "stream",
     "text": [
      "my name is :  yash \n",
      "age : 18\n"
     ]
    }
   ],
   "source": [
    "# input dedo sirji \n",
    "name= input(\"enter your name :\")\n",
    "age = input(\"enter your age :\")\n",
    "height = input(\"enter height : \")\n",
    "\n",
    "print(\"my name is : \",name )\n",
    "print(\"age :\",age)"
   ]
  },
  {
   "cell_type": "code",
   "execution_count": 3,
   "id": "a09c5525-7426-4727-83e0-836aae9b411d",
   "metadata": {},
   "outputs": [
    {
     "name": "stdin",
     "output_type": "stream",
     "text": [
      "enter number 1 : 30\n",
      "enter number 2 : 90\n"
     ]
    },
    {
     "name": "stdout",
     "output_type": "stream",
     "text": [
      "this is sum :  120\n"
     ]
    }
   ],
   "source": [
    "n1 = int (input(\"enter number 1 :\"))\n",
    "n2 = int (input(\"enter number 2 :\"))\n",
    "result = n1+ n2 \n",
    "print(\"this is sum : \", result )"
   ]
  },
  {
   "cell_type": "code",
   "execution_count": 6,
   "id": "10a1dea5-2a65-4d8d-b2c3-c94cc6d4677c",
   "metadata": {},
   "outputs": [
    {
     "name": "stdout",
     "output_type": "stream",
     "text": [
      "300\n",
      "-100\n",
      "20000\n",
      "0.5\n",
      "0\n",
      "100\n",
      "10000000000000000000000000000000000000000000000000000000000000000000000000000000000000000000000000000000000000000000000000000000000000000000000000000000000000000000000000000000000000000000000000000000000000000000000000000000000000000000000000000000000000000000000000000000000000000000000000000000000000000000000000000000000000000000000000000000000000000000000000000000000000000000000000000000000000000\n"
     ]
    }
   ],
   "source": [
    "x=100\n",
    "y=200\n",
    "result = x+y \n",
    "print (result)\n",
    "\n",
    "x=100\n",
    "y=200\n",
    "result = x-y \n",
    "print (result)\n",
    "\n",
    "x=100\n",
    "y=200\n",
    "result = x*y \n",
    "print (result)\n",
    "\n",
    "x=100\n",
    "y=200\n",
    "result = x/y   # normal divide \n",
    "print (result)\n",
    "\n",
    "x=100\n",
    "y=200\n",
    "result = x//y #floor divide \n",
    "print (result)\n",
    "\n",
    "x=100\n",
    "y=200\n",
    "result = x%y # modulus \n",
    "print (result)\n",
    "\n",
    "x=100\n",
    "y=200\n",
    "result = x**y #exponent \n",
    "print (result)"
   ]
  },
  {
   "cell_type": "code",
   "execution_count": 12,
   "id": "5c68fc06-e944-4e6b-883e-6453f10668d0",
   "metadata": {},
   "outputs": [
    {
     "name": "stdout",
     "output_type": "stream",
     "text": [
      "False\n",
      "True\n",
      "True\n",
      "True\n",
      "True\n"
     ]
    }
   ],
   "source": [
    "#comparison operators \n",
    "print(44>43 and 44>46 )\n",
    "print(44>43 or 44>46 )\n",
    "print (44 != 46)\n",
    "print(44>=35)\n",
    "print(65<=65)"
   ]
  },
  {
   "cell_type": "code",
   "execution_count": 13,
   "id": "6b375612-3251-4b96-9701-f7210b81778f",
   "metadata": {},
   "outputs": [
    {
     "name": "stdout",
     "output_type": "stream",
     "text": [
      "300\n"
     ]
    }
   ],
   "source": [
    "data = 100 \n",
    "data= data + 200 \n",
    "print (data)"
   ]
  },
  {
   "cell_type": "code",
   "execution_count": 16,
   "id": "e2b9ecae-1118-4849-a1ef-f5e3a1e71b1e",
   "metadata": {},
   "outputs": [
    {
     "name": "stdout",
     "output_type": "stream",
     "text": [
      "True\n",
      "False\n"
     ]
    }
   ],
   "source": [
    "#indentity operator\n",
    "web = \"www.codeswithyashsalvi.com\"\n",
    "print( \"y\"in web )\n",
    "print( \"y\" not in web )"
   ]
  },
  {
   "cell_type": "code",
   "execution_count": 17,
   "id": "8c744ff6-8c7a-4e4f-a3e2-48eee55a6921",
   "metadata": {},
   "outputs": [
    {
     "name": "stdout",
     "output_type": "stream",
     "text": [
      "False\n",
      "True\n"
     ]
    }
   ],
   "source": [
    "#membership operator\n",
    "d1= \"yash\"\n",
    "d2= \"salvi\"\n",
    "print(d1 is d2 )\n",
    "print (d1 is not d2 )"
   ]
  },
  {
   "cell_type": "code",
   "execution_count": 6,
   "id": "f8b19746-7812-44ee-a91f-6d35ccfe63e1",
   "metadata": {},
   "outputs": [
    {
     "name": "stdout",
     "output_type": "stream",
     "text": [
      "1000 is the greatest number\n"
     ]
    }
   ],
   "source": [
    "# if else statement \n",
    "a=1000\n",
    "b=200\n",
    "c=30\n",
    "d=4\n",
    "if a>b and a>c and a>d :\n",
    "    print(a,\"is the greatest number\")\n",
    "elif b>a and b>c and b>d :\n",
    "    print(b,\"is the greatest number \")\n",
    "elif c>a and c>b and c>d :\n",
    "    print (c,\"is the greatest number \")\n",
    "else :\n",
    "    print (d,\"is the greatest number\")"
   ]
  },
  {
   "cell_type": "code",
   "execution_count": 7,
   "id": "e73b6d7f-7991-41a4-8a04-77ef639ac5c5",
   "metadata": {},
   "outputs": [
    {
     "name": "stdout",
     "output_type": "stream",
     "text": [
      "4 is the smallest number\n"
     ]
    }
   ],
   "source": [
    "a=1000\n",
    "b=200\n",
    "c=30\n",
    "d=4\n",
    "if a<b and a<c and a<d :\n",
    "    print(a,\"is the smallest  number\")\n",
    "elif b<a and b<c and b<d :\n",
    "    print(b,\"is the smallest  number \")\n",
    "elif c<a and c<b and c<d :\n",
    "    print (c,\"is the smallest number \")\n",
    "else :\n",
    "    print (d,\"is the smallest number\")"
   ]
  },
  {
   "cell_type": "code",
   "execution_count": 22,
   "id": "1b603ad6-abd2-4e0b-ba04-119b7b13c4c3",
   "metadata": {},
   "outputs": [
    {
     "name": "stdout",
     "output_type": "stream",
     "text": [
      "9 is ODD number \n"
     ]
    }
   ],
   "source": [
    "A = 9\n",
    "\n",
    "if A%2==0 :\n",
    "    print (A,\"is EVEN number \")\n",
    "else: \n",
    "    print (A,\"is ODD number \")"
   ]
  },
  {
   "cell_type": "code",
   "execution_count": 2,
   "id": "2ccf0c99-d22a-44e6-a0ad-9524a45b4784",
   "metadata": {},
   "outputs": [
    {
     "name": "stdout",
     "output_type": "stream",
     "text": [
      "cabbage\n",
      "cauliflower\n"
     ]
    }
   ],
   "source": [
    "# lists \n",
    "vegetables = [\"okra\",\"cauliflower\",\"cabbage\",\"eggplant\"]\n",
    "print(vegetables[2])\n",
    "print(vegetables[-3])"
   ]
  },
  {
   "cell_type": "code",
   "execution_count": 5,
   "id": "950d5429-abe5-402c-933e-3efab46aadf9",
   "metadata": {},
   "outputs": [
    {
     "name": "stdout",
     "output_type": "stream",
     "text": [
      "['okra', 'cauliflower', 'cabbage']\n",
      "['cabbage', 'eggplant']\n",
      "['okra', 'cauliflower']\n"
     ]
    }
   ],
   "source": [
    "veggies = [\"okra\",\"cauliflower\",\"cabbage\",\"eggplant\"]\n",
    "print(veggies[0:3])\n",
    "print(veggies [2:])\n",
    "print(veggies [:2])"
   ]
  },
  {
   "cell_type": "code",
   "execution_count": 14,
   "id": "96498a4f-d701-461e-a7da-0c45c3f4067d",
   "metadata": {},
   "outputs": [
    {
     "name": "stdout",
     "output_type": "stream",
     "text": [
      "['okra', 'cauliflower', 'cabbage', 'eggplant', 'tomato']\n",
      "['okra', 'cauliflower', 'cabbage', 'chilli', 'eggplant', 'tomato']\n",
      "['okra', 'cauliflower', 'cabbage', 'eggplant', 'tomato']\n"
     ]
    }
   ],
   "source": [
    "veggies = [\"okra\",\"cauliflower\",\"cabbage\",\"eggplant\"]\n",
    "veggies.append(\"tomato\")\n",
    "print(veggies)\n",
    "veggies.insert(-2,\"chilli\")\n",
    "print(veggies)\n",
    "veggies.remove(\"chilli\")\n",
    "print(veggies)"
   ]
  },
  {
   "cell_type": "code",
   "execution_count": 44,
   "id": "522e752e-c07a-4875-8563-e54976aa336a",
   "metadata": {},
   "outputs": [
    {
     "name": "stdout",
     "output_type": "stream",
     "text": [
      "['okra', 'cauliflower', 'cabbage']\n",
      "['okra', 'cauliflower']\n"
     ]
    }
   ],
   "source": [
    "veggies = [\"okra\",\"cauliflower\",\"cabbage\",\"eggplant\"]\n",
    "\n",
    "veggies.pop()\n",
    "print(veggies )\n",
    "veggies.pop()\n",
    "print(veggies )"
   ]
  },
  {
   "cell_type": "code",
   "execution_count": 46,
   "id": "6a84327f-1156-4b64-a8db-e8029f8a507e",
   "metadata": {},
   "outputs": [
    {
     "name": "stdout",
     "output_type": "stream",
     "text": [
      "[]\n"
     ]
    }
   ],
   "source": [
    "veggies.clear()\n",
    "print(veggies)"
   ]
  },
  {
   "cell_type": "code",
   "execution_count": 47,
   "id": "569308ed-288c-4b67-9ee0-94ac546a11ea",
   "metadata": {},
   "outputs": [
    {
     "name": "stdout",
     "output_type": "stream",
     "text": [
      "[11, 22, 33, 44, 55, 66, 77, 88]\n"
     ]
    }
   ],
   "source": [
    "list1 = [11,22,33,44]\n",
    "list2 = [55,66,77,88]\n",
    "result = list1 + list2\n",
    "print(result)"
   ]
  },
  {
   "cell_type": "code",
   "execution_count": 48,
   "id": "c2ac40cc-f210-40f5-910e-53404c7d70ea",
   "metadata": {},
   "outputs": [
    {
     "name": "stdout",
     "output_type": "stream",
     "text": [
      "[11, 22, 33, 44, 11, 22, 33, 44]\n"
     ]
    }
   ],
   "source": [
    "list1 = [11,22,33,44]\n",
    "result = list1*2\n",
    "print(result)"
   ]
  },
  {
   "cell_type": "code",
   "execution_count": 49,
   "id": "3962bb58-534a-454a-ab27-98364cf6b489",
   "metadata": {},
   "outputs": [
    {
     "name": "stdout",
     "output_type": "stream",
     "text": [
      "okra\n",
      "cauliflower\n",
      "cabbage\n",
      "eggplant\n"
     ]
    }
   ],
   "source": [
    "veggies = [\"okra\",\"cauliflower\",\"cabbage\",\"eggplant\"]\n",
    "for  i in veggies :\n",
    "    print(i)"
   ]
  },
  {
   "cell_type": "code",
   "execution_count": 3,
   "id": "fa4b16ec-97bb-4156-b629-13bb73db5d82",
   "metadata": {},
   "outputs": [
    {
     "name": "stdout",
     "output_type": "stream",
     "text": [
      "Requirement already satisfied: pandas in c:\\users\\programming\\anaconda3\\lib\\site-packages (2.2.2)\n",
      "Requirement already satisfied: numpy>=1.26.0 in c:\\users\\programming\\anaconda3\\lib\\site-packages (from pandas) (1.26.4)\n",
      "Requirement already satisfied: python-dateutil>=2.8.2 in c:\\users\\programming\\anaconda3\\lib\\site-packages (from pandas) (2.9.0.post0)\n",
      "Requirement already satisfied: pytz>=2020.1 in c:\\users\\programming\\anaconda3\\lib\\site-packages (from pandas) (2024.1)\n",
      "Requirement already satisfied: tzdata>=2022.7 in c:\\users\\programming\\anaconda3\\lib\\site-packages (from pandas) (2023.3)\n",
      "Requirement already satisfied: six>=1.5 in c:\\users\\programming\\anaconda3\\lib\\site-packages (from python-dateutil>=2.8.2->pandas) (1.16.0)\n",
      "Note: you may need to restart the kernel to use updated packages.\n"
     ]
    }
   ],
   "source": [
    "%pip install pandas\n"
   ]
  },
  {
   "cell_type": "code",
   "execution_count": 3,
   "id": "000cfe90-0131-456c-8eba-39b9879adfb0",
   "metadata": {},
   "outputs": [
    {
     "name": "stdout",
     "output_type": "stream",
     "text": [
      "0    1\n",
      "1    2\n",
      "2    3\n",
      "3    4\n",
      "4    5\n",
      "dtype: int64\n",
      "a    1\n",
      "b    2\n",
      "c    3\n",
      "d    4\n",
      "e    5\n",
      "dtype: int64\n"
     ]
    }
   ],
   "source": [
    "# create a list \n",
    "import pandas as pd \n",
    "data = [1,2,3,4,5]\n",
    "s = pd.Series(data)\n",
    "print(s)\n",
    "s = pd.Series(data ,index = ['a','b','c','d','e'])\n",
    "print(s)"
   ]
  },
  {
   "cell_type": "code",
   "execution_count": 4,
   "id": "6cd5e699-3c07-43e0-b2d4-29f48f244e21",
   "metadata": {},
   "outputs": [
    {
     "name": "stdout",
     "output_type": "stream",
     "text": [
      "name         john\n",
      "age            25\n",
      "city    new york \n",
      "dtype: object\n"
     ]
    }
   ],
   "source": [
    "data = {'name': 'john',\"age\": 25,\"city\":'new york '}\n",
    "s = pd.Series(data)\n",
    "print(s)"
   ]
  },
  {
   "cell_type": "code",
   "execution_count": 10,
   "id": "3200925c-77d4-437d-bfc2-83afafbe9041",
   "metadata": {},
   "outputs": [
    {
     "name": "stdout",
     "output_type": "stream",
     "text": [
      "     NAME   AGE         CITY\n",
      "0  Nishant   35    new york \n",
      "1     john   35  new jersey \n"
     ]
    }
   ],
   "source": [
    "data = [{'NAME ':'Nishant','AGE': 35,'CITY': 'new york '},{'NAME ':'john','AGE': 35,'CITY': 'new jersey '}]\n",
    "df = pd.DataFrame(data )\n",
    "print(df )"
   ]
  },
  {
   "cell_type": "code",
   "execution_count": 23,
   "id": "1b7676d3-0f3e-47df-9157-a99575d1a8c6",
   "metadata": {},
   "outputs": [],
   "source": [
    "import pandas as pd\n",
    "import random\n",
    "\n",
    "# Generate sample data\n",
    "names = [\n",
    "    \"John\", \"Jane\", \"Alice\", \"Bob\", \"Charlie\", \"David\", \"Eva\", \"Fay\", \"Grace\", \"Henry\",\n",
    "    \"Ivy\", \"Jack\", \"Kathy\", \"Liam\", \"Mia\", \"Noah\", \"Olivia\", \"Paul\", \"Quincy\", \"Rachel\",\n",
    "    \"Sam\", \"Tom\", \"Uma\", \"Vera\", \"Will\", \"Xander\", \"Yara\", \"Zane\", \"Anna\", \"Ben\", \"Cathy\",\n",
    "    \"Dylan\", \"Emma\", \"Fred\", \"Gina\", \"Hank\", \"Isla\", \"James\", \"Kate\", \"Leo\", \"Mary\", \"Nina\",\n",
    "    \"Oscar\", \"Penny\", \"Rick\", \"Sophie\", \"Tina\", \"Ursula\", \"Victor\", \"Walter\", \"Xena\", \"Yves\"\n",
    "]\n",
    "\n",
    "cities = [\n",
    "    \"New York\", \"Los Angeles\", \"Chicago\", \"Houston\", \"Phoenix\", \"Philadelphia\", \"San Antonio\",\n",
    "    \"San Diego\", \"Dallas\", \"San Jose\", \"Austin\", \"Jacksonville\", \"Fort Worth\", \"Columbus\",\n",
    "    \"Indianapolis\", \"Charlotte\", \"Seattle\", \"Denver\", \"Washington\", \"Boston\", \"El Paso\", \"Nashville\",\n",
    "    \"Detroit\", \"Oklahoma City\", \"Portland\", \"Las Vegas\", \"Memphis\", \"Louisville\", \"Baltimore\",\n",
    "    \"Milwaukee\", \"Albuquerque\", \"Tucson\", \"Fresno\", \"Sacramento\", \"Kansas City\", \"Long Beach\",\n",
    "    \"Mesa\", \"Atlanta\", \"Colorado Springs\", \"Raleigh\", \"Omaha\", \"Miami\", \"Cleveland\", \"Tulsa\",\n",
    "    \"Bakersfield\", \"Aurora\", \"Honolulu\", \"Anaheim\", \"Santa Ana\", \"Riverside\", \"St. Louis\", \"Corpus Christi\"\n",
    "]\n",
    "\n",
    "# Generate random data\n",
    "data = []\n",
    "for _ in range(50):\n",
    "    name = random.choice(names)\n",
    "    age = random.randint(18, 80)\n",
    "    city = random.choice(cities)\n",
    "    salary = random.randint(500000,1000000)\n",
    "    data.append([name, age, city,salary])\n",
    "\n",
    "# Create a DataFrame\n",
    "df = pd.DataFrame(data, columns=[\"NAME\", \"AGE\", \"CITY\",\"SALARY\"])\n",
    "\n",
    "# Save to CSV\n",
    "df.to_csv(\"people_data.csv\", index=False)\n"
   ]
  },
  {
   "cell_type": "code",
   "execution_count": 30,
   "id": "b0b3f7fe-7942-4983-83a9-e58ab89bf651",
   "metadata": {},
   "outputs": [
    {
     "name": "stdout",
     "output_type": "stream",
     "text": [
      "     NAME  AGE            CITY  SALARY\n",
      "0    Xena   32  Corpus Christi  954775\n",
      "1  Sophie   32     Los Angeles  558508\n",
      "2    Vera   45           Tulsa  659940\n",
      "3   Oscar   54          Denver  699842\n",
      "4    Mary   51    Philadelphia  830542\n"
     ]
    }
   ],
   "source": [
    "d_file = pd.read_csv('people_data.csv')\n",
    "print(d_file.head())"
   ]
  },
  {
   "cell_type": "code",
   "execution_count": 25,
   "id": "f562ab8b-fb21-4491-8a7d-10f637814a48",
   "metadata": {},
   "outputs": [
    {
     "name": "stdout",
     "output_type": "stream",
     "text": [
      "      NAME  AGE              CITY  SALARY\n",
      "0     Xena   32    Corpus Christi  954775\n",
      "1   Sophie   32       Los Angeles  558508\n",
      "2     Vera   45             Tulsa  659940\n",
      "3    Oscar   54            Denver  699842\n",
      "4     Mary   51      Philadelphia  830542\n",
      "5     John   54            Denver  707702\n",
      "6    Cathy   36         Cleveland  525078\n",
      "7     Xena   35      Jacksonville  716041\n",
      "8      Bob   66         Nashville  760411\n",
      "9     Yves   79       Albuquerque  775982\n",
      "10    Zane   53       Kansas City  568720\n",
      "11    Liam   18        Washington  607076\n",
      "12     Mia   64            Denver  533651\n",
      "13    Noah   31       San Antonio  959533\n",
      "14    Paul   72            Aurora  669756\n",
      "15    Noah   78        Louisville  901868\n",
      "16   David   56             Omaha  765164\n",
      "17   Penny   61           Seattle  587102\n",
      "18    Rick   69      Jacksonville  750769\n",
      "19    Emma   79       Albuquerque  812730\n",
      "20    Yves   36  Colorado Springs  846554\n",
      "21   Cathy   55           Phoenix  816390\n",
      "22    Vera   50        Long Beach  808640\n",
      "23     Sam   39         San Diego  735119\n",
      "24     Ivy   80            Fresno  683777\n",
      "25  Rachel   47         Charlotte  841642\n",
      "26     Bob   23           El Paso  989817\n",
      "27    Mary   19           Chicago  566832\n",
      "28   Henry   63           Chicago  727162\n",
      "29    Will   25        Sacramento  692055\n",
      "30     Sam   18         Nashville  825196\n",
      "31    Paul   38       Albuquerque  737492\n",
      "32  Sophie   56       Los Angeles  663523\n",
      "33     Bob   76           Atlanta  734881\n",
      "34    Hank   57            Tucson  831751\n",
      "35  Sophie   40       San Antonio  584563\n",
      "36    Vera   63        Sacramento  515166\n",
      "37  Olivia   77            Tucson  784470\n",
      "38     Uma   38      Indianapolis  547907\n",
      "39    John   27           Detroit  505864\n",
      "40  Sophie   39        Long Beach  643938\n",
      "41  Xander   18      Jacksonville  818628\n",
      "42   Kathy   44       Kansas City  553900\n",
      "43    Noah   37            Denver  866265\n",
      "44   Dylan   53         San Diego  975701\n",
      "45    Paul   28           Seattle  981382\n",
      "46     Leo   65             Omaha  962383\n",
      "47    Emma   36       Los Angeles  607191\n",
      "48    John   63            Boston  917816\n",
      "49     Fay   51           Memphis  526939\n"
     ]
    }
   ],
   "source": [
    "df = pd.DataFrame(d_file)\n",
    "print(df)"
   ]
  },
  {
   "cell_type": "code",
   "execution_count": 16,
   "id": "03797aa3-c225-43d3-98a9-6093afc06641",
   "metadata": {},
   "outputs": [
    {
     "name": "stdout",
     "output_type": "stream",
     "text": [
      "     NAME  AGE            CITY\n",
      "25   Jane   26         Atlanta\n",
      "43   Hank   29  Corpus Christi\n",
      "44  James   26       Cleveland\n"
     ]
    }
   ],
   "source": [
    "filter_age = df [(df['AGE'] > 25 ) & (df ['AGE']< 30 )]\n",
    "print(filter_age)"
   ]
  },
  {
   "cell_type": "code",
   "execution_count": 34,
   "id": "b357ff11-723c-4b03-bd3a-f859aab31d4b",
   "metadata": {},
   "outputs": [
    {
     "name": "stdout",
     "output_type": "stream",
     "text": [
      "NAME       object\n",
      "AGE         int64\n",
      "CITY       object\n",
      "SALARY    float64\n",
      "dtype: object\n",
      "Index(['NAME', 'AGE', 'CITY', 'SALARY'], dtype='object')\n",
      "<bound method NDFrame.describe of       NAME  AGE              CITY     SALARY\n",
      "0     Xena   32    Corpus Christi  1050252.5\n",
      "1   Sophie   32       Los Angeles   614358.8\n",
      "2     Vera   45             Tulsa   725934.0\n",
      "3    Oscar   54            Denver   769826.2\n",
      "4     Mary   51      Philadelphia   913596.2\n",
      "5     John   54            Denver   778472.2\n",
      "6    Cathy   36         Cleveland   577585.8\n",
      "7     Xena   35      Jacksonville   787645.1\n",
      "8      Bob   66         Nashville   836452.1\n",
      "9     Yves   79       Albuquerque   853580.2\n",
      "10    Zane   53       Kansas City   625592.0\n",
      "11    Liam   18        Washington   667783.6\n",
      "12     Mia   64            Denver   587016.1\n",
      "13    Noah   31       San Antonio  1055486.3\n",
      "14    Paul   72            Aurora   736731.6\n",
      "15    Noah   78        Louisville   992054.8\n",
      "16   David   56             Omaha   841680.4\n",
      "17   Penny   61           Seattle   645812.2\n",
      "18    Rick   69      Jacksonville   825845.9\n",
      "19    Emma   79       Albuquerque   894003.0\n",
      "20    Yves   36  Colorado Springs   931209.4\n",
      "21   Cathy   55           Phoenix   898029.0\n",
      "22    Vera   50        Long Beach   889504.0\n",
      "23     Sam   39         San Diego   808630.9\n",
      "24     Ivy   80            Fresno   752154.7\n",
      "25  Rachel   47         Charlotte   925806.2\n",
      "26     Bob   23           El Paso  1088798.7\n",
      "27    Mary   19           Chicago   623515.2\n",
      "28   Henry   63           Chicago   799878.2\n",
      "29    Will   25        Sacramento   761260.5\n",
      "30     Sam   18         Nashville   907715.6\n",
      "31    Paul   38       Albuquerque   811241.2\n",
      "32  Sophie   56       Los Angeles   729875.3\n",
      "33     Bob   76           Atlanta   808369.1\n",
      "34    Hank   57            Tucson   914926.1\n",
      "35  Sophie   40       San Antonio   643019.3\n",
      "36    Vera   63        Sacramento   566682.6\n",
      "37  Olivia   77            Tucson   862917.0\n",
      "38     Uma   38      Indianapolis   602697.7\n",
      "39    John   27           Detroit   556450.4\n",
      "40  Sophie   39        Long Beach   708331.8\n",
      "41  Xander   18      Jacksonville   900490.8\n",
      "42   Kathy   44       Kansas City   609290.0\n",
      "43    Noah   37            Denver   952891.5\n",
      "44   Dylan   53         San Diego  1073271.1\n",
      "45    Paul   28           Seattle  1079520.2\n",
      "46     Leo   65             Omaha  1058621.3\n",
      "47    Emma   36       Los Angeles   667910.1\n",
      "48    John   63            Boston  1009597.6\n",
      "49     Fay   51           Memphis   579632.9>\n"
     ]
    }
   ],
   "source": [
    "print(df.dtypes)\n",
    "print(df.columns)\n",
    "print(df.describe)"
   ]
  },
  {
   "cell_type": "code",
   "execution_count": 21,
   "id": "cae0b7b7-35f7-461c-aa80-4a8549f29a8a",
   "metadata": {},
   "outputs": [
    {
     "name": "stdout",
     "output_type": "stream",
     "text": [
      "Albuquerque\n",
      "Anaheim\n",
      "Atlanta\n",
      "Aurora\n",
      "Bakersfield\n",
      "Boston\n",
      "Chicago\n",
      "Cleveland\n",
      "Colorado Springs\n",
      "Columbus\n",
      "Corpus Christi\n",
      "Detroit\n",
      "El Paso\n",
      "Fresno\n",
      "Honolulu\n",
      "Indianapolis\n",
      "Jacksonville\n",
      "Los Angeles\n",
      "Louisville\n",
      "Memphis\n",
      "Mesa\n",
      "Miami\n",
      "Milwaukee\n",
      "Nashville\n",
      "Oklahoma City\n",
      "Philadelphia\n",
      "Phoenix\n",
      "Portland\n",
      "Raleigh\n",
      "Sacramento\n",
      "San Antonio\n",
      "San Diego\n",
      "San Jose\n",
      "Santa Ana\n",
      "Seattle\n",
      "St. Louis\n",
      "Washington\n",
      "CITY\n",
      "Albuquerque         1\n",
      "Anaheim             1\n",
      "Atlanta             2\n",
      "Aurora              2\n",
      "Bakersfield         1\n",
      "Boston              1\n",
      "Chicago             2\n",
      "Cleveland           2\n",
      "Colorado Springs    2\n",
      "Columbus            1\n",
      "Corpus Christi      1\n",
      "Detroit             2\n",
      "El Paso             2\n",
      "Fresno              1\n",
      "Honolulu            1\n",
      "Indianapolis        2\n",
      "Jacksonville        1\n",
      "Los Angeles         2\n",
      "Louisville          1\n",
      "Memphis             1\n",
      "Mesa                1\n",
      "Miami               1\n",
      "Milwaukee           2\n",
      "Nashville           2\n",
      "Oklahoma City       1\n",
      "Philadelphia        1\n",
      "Phoenix             1\n",
      "Portland            1\n",
      "Raleigh             2\n",
      "Sacramento          1\n",
      "San Antonio         1\n",
      "San Diego           1\n",
      "San Jose            1\n",
      "Santa Ana           1\n",
      "Seattle             2\n",
      "St. Louis           1\n",
      "Washington          1\n",
      "dtype: int64\n"
     ]
    }
   ],
   "source": [
    "grp_city = d_file.groupby('CITY')\n",
    "for city , df in grp_city :\n",
    "    print(city)\n",
    "\n",
    "print(grp_city.size())"
   ]
  },
  {
   "cell_type": "code",
   "execution_count": 28,
   "id": "4968f03f-e285-4b55-9b28-88d36943c8cf",
   "metadata": {},
   "outputs": [
    {
     "name": "stdout",
     "output_type": "stream",
     "text": [
      "      NAME  AGE              CITY     SALARY\n",
      "0     Xena   32    Corpus Christi  1050252.5\n",
      "1   Sophie   32       Los Angeles   614358.8\n",
      "2     Vera   45             Tulsa   725934.0\n",
      "3    Oscar   54            Denver   769826.2\n",
      "4     Mary   51      Philadelphia   913596.2\n",
      "5     John   54            Denver   778472.2\n",
      "6    Cathy   36         Cleveland   577585.8\n",
      "7     Xena   35      Jacksonville   787645.1\n",
      "8      Bob   66         Nashville   836452.1\n",
      "9     Yves   79       Albuquerque   853580.2\n",
      "10    Zane   53       Kansas City   625592.0\n",
      "11    Liam   18        Washington   667783.6\n",
      "12     Mia   64            Denver   587016.1\n",
      "13    Noah   31       San Antonio  1055486.3\n",
      "14    Paul   72            Aurora   736731.6\n",
      "15    Noah   78        Louisville   992054.8\n",
      "16   David   56             Omaha   841680.4\n",
      "17   Penny   61           Seattle   645812.2\n",
      "18    Rick   69      Jacksonville   825845.9\n",
      "19    Emma   79       Albuquerque   894003.0\n",
      "20    Yves   36  Colorado Springs   931209.4\n",
      "21   Cathy   55           Phoenix   898029.0\n",
      "22    Vera   50        Long Beach   889504.0\n",
      "23     Sam   39         San Diego   808630.9\n",
      "24     Ivy   80            Fresno   752154.7\n",
      "25  Rachel   47         Charlotte   925806.2\n",
      "26     Bob   23           El Paso  1088798.7\n",
      "27    Mary   19           Chicago   623515.2\n",
      "28   Henry   63           Chicago   799878.2\n",
      "29    Will   25        Sacramento   761260.5\n",
      "30     Sam   18         Nashville   907715.6\n",
      "31    Paul   38       Albuquerque   811241.2\n",
      "32  Sophie   56       Los Angeles   729875.3\n",
      "33     Bob   76           Atlanta   808369.1\n",
      "34    Hank   57            Tucson   914926.1\n",
      "35  Sophie   40       San Antonio   643019.3\n",
      "36    Vera   63        Sacramento   566682.6\n",
      "37  Olivia   77            Tucson   862917.0\n",
      "38     Uma   38      Indianapolis   602697.7\n",
      "39    John   27           Detroit   556450.4\n",
      "40  Sophie   39        Long Beach   708331.8\n",
      "41  Xander   18      Jacksonville   900490.8\n",
      "42   Kathy   44       Kansas City   609290.0\n",
      "43    Noah   37            Denver   952891.5\n",
      "44   Dylan   53         San Diego  1073271.1\n",
      "45    Paul   28           Seattle  1079520.2\n",
      "46     Leo   65             Omaha  1058621.3\n",
      "47    Emma   36       Los Angeles   667910.1\n",
      "48    John   63            Boston  1009597.6\n",
      "49     Fay   51           Memphis   579632.9\n"
     ]
    }
   ],
   "source": [
    "df['SALARY'] = df['SALARY'].apply(lambda x : x*1.1 if x > 25 else x)\n",
    "print(df)"
   ]
  },
  {
   "cell_type": "code",
   "execution_count": 29,
   "id": "97e17a2d-1c47-4e90-bc6c-7e0f3188d976",
   "metadata": {},
   "outputs": [],
   "source": [
    "df.to_csv('updated_data.csv',index = False )"
   ]
  },
  {
   "cell_type": "code",
   "execution_count": 2,
   "id": "488b33e3-725c-403a-8e50-e243f6db16df",
   "metadata": {},
   "outputs": [
    {
     "name": "stdout",
     "output_type": "stream",
     "text": [
      "Requirement already satisfied: matplotlib in c:\\users\\programming\\anaconda3\\lib\\site-packages (3.9.2)\n",
      "Requirement already satisfied: contourpy>=1.0.1 in c:\\users\\programming\\anaconda3\\lib\\site-packages (from matplotlib) (1.2.0)\n",
      "Requirement already satisfied: cycler>=0.10 in c:\\users\\programming\\anaconda3\\lib\\site-packages (from matplotlib) (0.11.0)\n",
      "Requirement already satisfied: fonttools>=4.22.0 in c:\\users\\programming\\anaconda3\\lib\\site-packages (from matplotlib) (4.51.0)\n",
      "Requirement already satisfied: kiwisolver>=1.3.1 in c:\\users\\programming\\anaconda3\\lib\\site-packages (from matplotlib) (1.4.4)\n",
      "Requirement already satisfied: numpy>=1.23 in c:\\users\\programming\\anaconda3\\lib\\site-packages (from matplotlib) (1.26.4)\n",
      "Requirement already satisfied: packaging>=20.0 in c:\\users\\programming\\anaconda3\\lib\\site-packages (from matplotlib) (24.1)\n",
      "Requirement already satisfied: pillow>=8 in c:\\users\\programming\\anaconda3\\lib\\site-packages (from matplotlib) (10.4.0)\n",
      "Requirement already satisfied: pyparsing>=2.3.1 in c:\\users\\programming\\anaconda3\\lib\\site-packages (from matplotlib) (3.1.2)\n",
      "Requirement already satisfied: python-dateutil>=2.7 in c:\\users\\programming\\anaconda3\\lib\\site-packages (from matplotlib) (2.9.0.post0)\n",
      "Requirement already satisfied: six>=1.5 in c:\\users\\programming\\anaconda3\\lib\\site-packages (from python-dateutil>=2.7->matplotlib) (1.16.0)\n",
      "Note: you may need to restart the kernel to use updated packages.\n"
     ]
    }
   ],
   "source": [
    "%pip install matplotlib "
   ]
  },
  {
   "cell_type": "code",
   "execution_count": null,
   "id": "ae8611e7-ca96-4cd8-9292-663a6f03c6b4",
   "metadata": {},
   "outputs": [],
   "source": []
  }
 ],
 "metadata": {
  "kernelspec": {
   "display_name": "Python 3 (ipykernel)",
   "language": "python",
   "name": "python3"
  },
  "language_info": {
   "codemirror_mode": {
    "name": "ipython",
    "version": 3
   },
   "file_extension": ".py",
   "mimetype": "text/x-python",
   "name": "python",
   "nbconvert_exporter": "python",
   "pygments_lexer": "ipython3",
   "version": "3.12.7"
  }
 },
 "nbformat": 4,
 "nbformat_minor": 5
}
