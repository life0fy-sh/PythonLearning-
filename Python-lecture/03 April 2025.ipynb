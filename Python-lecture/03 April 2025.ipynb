{
 "cells": [
  {
   "cell_type": "code",
   "execution_count": null,
   "metadata": {},
   "outputs": [],
   "source": [
    "# numpy in python\n",
    "\n",
    "# what is numpy?\n",
    "# numpy is a library for the python programming language, adding support for large, multi-dimensional arrays and matrices, along with a collection of mathematical functions to operate on these arrays.\n",
    "\n",
    "# numpy is a fundamental package for scientific computing with Python.\n",
    "# numpy is open source and can be installed using pip."
   ]
  },
  {
   "cell_type": "code",
   "execution_count": 3,
   "metadata": {},
   "outputs": [
    {
     "name": "stdout",
     "output_type": "stream",
     "text": [
      "2.2.4\n"
     ]
    }
   ],
   "source": [
    "# chck numpy version\n",
    "import numpy as np\n",
    "print(np.__version__)"
   ]
  },
  {
   "cell_type": "code",
   "execution_count": 4,
   "metadata": {},
   "outputs": [
    {
     "name": "stdout",
     "output_type": "stream",
     "text": [
      "[1 2 3 4 5]\n"
     ]
    }
   ],
   "source": [
    "# create a numpy array\n",
    "a = np.array([1, 2, 3, 4, 5])\n",
    "print(a)"
   ]
  },
  {
   "cell_type": "code",
   "execution_count": 5,
   "metadata": {},
   "outputs": [
    {
     "name": "stdout",
     "output_type": "stream",
     "text": [
      "[[1 2 3]\n",
      " [4 5 6]]\n"
     ]
    }
   ],
   "source": [
    "# create a 2 dimensional numpy array\n",
    "b = np.array([[1, 2, 3], [4, 5, 6]])\n",
    "print(b)"
   ]
  },
  {
   "cell_type": "code",
   "execution_count": 8,
   "metadata": {},
   "outputs": [
    {
     "name": "stdout",
     "output_type": "stream",
     "text": [
      "1\n",
      "[2 3 4]\n",
      "[2 3 4 5]\n"
     ]
    }
   ],
   "source": [
    "# accessing elements in a numpy array\n",
    "print(a[0])  # first element\n",
    "\n",
    "print(a[1:4])  # elements from index 1 to 3\n",
    "print(a[1:])  # elements from index 1 to end"
   ]
  },
  {
   "cell_type": "code",
   "execution_count": 9,
   "metadata": {},
   "outputs": [
    {
     "name": "stdout",
     "output_type": "stream",
     "text": [
      "[[0. 0. 0. 0.]\n",
      " [0. 0. 0. 0.]\n",
      " [0. 0. 0. 0.]]\n"
     ]
    }
   ],
   "source": [
    "# cerate a numpy array with zeros\n",
    "c = np.zeros((3, 4))  # 3 rows and 4 columns\n",
    "print(c)"
   ]
  },
  {
   "cell_type": "code",
   "execution_count": 11,
   "metadata": {},
   "outputs": [
    {
     "name": "stdout",
     "output_type": "stream",
     "text": [
      "[[0.71653257 0.37093186 0.59244181 0.31054208]\n",
      " [0.84984998 0.03974944 0.59032737 0.59799713]\n",
      " [0.59749003 0.08319192 0.54515006 0.06937287]]\n"
     ]
    }
   ],
   "source": [
    "# cerate a numpy random array\n",
    "d = np.random.rand(3, 4)  # 3 rows and 4 columns\n",
    "print(d)"
   ]
  },
  {
   "cell_type": "code",
   "execution_count": 13,
   "metadata": {},
   "outputs": [
    {
     "name": "stdout",
     "output_type": "stream",
     "text": [
      "[[3 1 3 2]\n",
      " [4 5 3 6]\n",
      " [2 6 9 7]]\n"
     ]
    }
   ],
   "source": [
    "# using int data type in random array\n",
    "e = np.random.randint(1, 10, size=(3, 4))  # 3 rows and 4 columns\n",
    "print(e)"
   ]
  },
  {
   "cell_type": "code",
   "execution_count": 14,
   "metadata": {},
   "outputs": [
    {
     "name": "stdout",
     "output_type": "stream",
     "text": [
      "[1 3 5 7 9]\n"
     ]
    }
   ],
   "source": [
    "# using numpy to create a range of numbers\n",
    "f = np.arange(1, 10, 2)  # start, stop, step\n",
    "print(f)"
   ]
  },
  {
   "cell_type": "code",
   "execution_count": null,
   "metadata": {},
   "outputs": [
    {
     "name": "stdout",
     "output_type": "stream",
     "text": [
      "[5 7 9]\n",
      "[-3 -3 -3]\n",
      "[ 4 10 18]\n",
      "[0.25 0.4  0.5 ]\n",
      "[1 4 9]\n"
     ]
    }
   ],
   "source": [
    "# numpy use for mathematical operations\n",
    "g = np.array([1, 2, 3])\n",
    "h = np.array([4, 5, 6])\n",
    "print(g + h)  # addition\n",
    "print(g - h)  # subtraction\n",
    "print(g * h)  # multiplication\n",
    "print(g / h)  # division\n",
    "print(g ** 2)  # power"
   ]
  }
 ],
 "metadata": {
  "kernelspec": {
   "display_name": "Python 3",
   "language": "python",
   "name": "python3"
  },
  "language_info": {
   "codemirror_mode": {
    "name": "ipython",
    "version": 3
   },
   "file_extension": ".py",
   "mimetype": "text/x-python",
   "name": "python",
   "nbconvert_exporter": "python",
   "pygments_lexer": "ipython3",
   "version": "3.13.2"
  }
 },
 "nbformat": 4,
 "nbformat_minor": 2
}
