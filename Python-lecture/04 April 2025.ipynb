{
 "cells": [
  {
   "cell_type": "code",
   "execution_count": 3,
   "metadata": {},
   "outputs": [
    {
     "name": "stdout",
     "output_type": "stream",
     "text": [
      "4\n"
     ]
    }
   ],
   "source": [
    "# Generate Random Integer\n",
    "\n",
    "from numpy import random\n",
    "\n",
    "# Generate a random integer between 0 and 10 (exclusive)\n",
    "random_integer = random.randint(0, 10)\n",
    "print(random_integer)"
   ]
  },
  {
   "cell_type": "code",
   "execution_count": 4,
   "metadata": {},
   "outputs": [
    {
     "name": "stdout",
     "output_type": "stream",
     "text": [
      "0.8782467046215124\n"
     ]
    }
   ],
   "source": [
    "# Generate Random Float\n",
    "\n",
    "float_number = random.rand()\n",
    "print(float_number)"
   ]
  },
  {
   "cell_type": "code",
   "execution_count": 18,
   "metadata": {},
   "outputs": [
    {
     "name": "stdout",
     "output_type": "stream",
     "text": [
      "[0.74636339 0.72630671 0.62216628 0.74321004 0.01784324]\n",
      "[6 1 6 8 5]\n"
     ]
    }
   ],
   "source": [
    "# generate a random array of 5 random floats between 0 and 1\n",
    "random_array = random.rand(5)\n",
    "print(random_array)\n",
    "\n",
    "# integer array of 5 random integers between 0 and 10 (exclusive)\n",
    "random_integer_array = random.randint(0, 10, 5)\n",
    "print(random_integer_array)"
   ]
  },
  {
   "cell_type": "code",
   "execution_count": 20,
   "metadata": {},
   "outputs": [
    {
     "name": "stdout",
     "output_type": "stream",
     "text": [
      "[[6 0 0]\n",
      " [0 9 7]\n",
      " [2 3 1]]\n"
     ]
    }
   ],
   "source": [
    "# generate 2d array of random integers between 0 and 10 (exclusive)\n",
    "random_2d_array = random.randint(0, 10, (3, 3))\n",
    "print(random_2d_array)"
   ]
  },
  {
   "cell_type": "code",
   "execution_count": 38,
   "metadata": {},
   "outputs": [
    {
     "name": "stdout",
     "output_type": "stream",
     "text": [
      "2\n"
     ]
    }
   ],
   "source": [
    "# Single Value using choice() method\n",
    "\n",
    "random_choice = random.choice([1, 2, 3, 4, 5])\n",
    "print(random_choice)"
   ]
  },
  {
   "cell_type": "code",
   "execution_count": null,
   "metadata": {},
   "outputs": [
    {
     "name": "stdout",
     "output_type": "stream",
     "text": [
      "[[5 5 4]\n",
      " [4 4 4]\n",
      " [4 5 4]]\n"
     ]
    }
   ],
   "source": [
    "# Array of Values using choice() method\n",
    "\n",
    "random_choice_array = random.choice([1, 2, 3, 4, 5], size=(3, 3))\n",
    "print(random_choice_array)"
   ]
  },
  {
   "cell_type": "code",
   "execution_count": 88,
   "metadata": {},
   "outputs": [
    {
     "name": "stdout",
     "output_type": "stream",
     "text": [
      "[2, 5, 1, 3, 4]\n"
     ]
    }
   ],
   "source": [
    "# Shuffling an Array USING shuffle() method\n",
    "\n",
    "array_to_shuffle = [1, 2, 3, 4, 5]\n",
    "random.shuffle(array_to_shuffle)\n",
    "print(array_to_shuffle)\n"
   ]
  },
  {
   "cell_type": "code",
   "execution_count": 98,
   "metadata": {},
   "outputs": [
    {
     "name": "stdout",
     "output_type": "stream",
     "text": [
      "[4 1 5 2 3]\n"
     ]
    }
   ],
   "source": [
    "# Generating a Random Permutation\n",
    "# what is a permutation?\n",
    "# A permutation of a set is an arrangement of its members into a sequence or linear order.\n",
    "\n",
    "# example of permutation\n",
    "\n",
    "data = [1, 2, 3, 4, 5]\n",
    "permutation = random.permutation(data)\n",
    "print(permutation)"
   ]
  }
 ],
 "metadata": {
  "kernelspec": {
   "display_name": "Python 3",
   "language": "python",
   "name": "python3"
  },
  "language_info": {
   "codemirror_mode": {
    "name": "ipython",
    "version": 3
   },
   "file_extension": ".py",
   "mimetype": "text/x-python",
   "name": "python",
   "nbconvert_exporter": "python",
   "pygments_lexer": "ipython3",
   "version": "3.13.2"
  }
 },
 "nbformat": 4,
 "nbformat_minor": 2
}
